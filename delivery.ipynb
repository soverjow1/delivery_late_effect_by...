{
 "cells": [
  {
   "cell_type": "code",
   "execution_count": 100,
   "metadata": {},
   "outputs": [],
   "source": [
    "import numpy as np \n",
    "import seaborn as sns \n",
    "import matplotlib.pyplot as plt\n",
    "import pandas as pd\n",
    "import scipy.stats as stat"
   ]
  },
  {
   "cell_type": "markdown",
   "metadata": {},
   "source": [
    "The late_shipments dataset contains supply chain data on the delivery of medical supplies. Each row represents one delivery of a part. The late columns denotes whether or not the part was delivered late. A value of \"Yes\" means that the part was delivered late, and a value of \"No\" means the part was delivered on time."
   ]
  },
  {
   "cell_type": "markdown",
   "metadata": {},
   "source": [
    "Question \n",
    "- Is Shipment_mode affect late ? (Ocean Vs Air)\n",
    "- Is there 6% of delivery order is late ?\n",
    "- Is weight_kilograms affected late ?"
   ]
  },
  {
   "cell_type": "code",
   "execution_count": 2,
   "metadata": {},
   "outputs": [
    {
     "data": {
      "text/html": [
       "<div>\n",
       "<style scoped>\n",
       "    .dataframe tbody tr th:only-of-type {\n",
       "        vertical-align: middle;\n",
       "    }\n",
       "\n",
       "    .dataframe tbody tr th {\n",
       "        vertical-align: top;\n",
       "    }\n",
       "\n",
       "    .dataframe thead th {\n",
       "        text-align: right;\n",
       "    }\n",
       "</style>\n",
       "<table border=\"1\" class=\"dataframe\">\n",
       "  <thead>\n",
       "    <tr style=\"text-align: right;\">\n",
       "      <th></th>\n",
       "      <th>id</th>\n",
       "      <th>country</th>\n",
       "      <th>managed_by</th>\n",
       "      <th>fulfill_via</th>\n",
       "      <th>vendor_inco_term</th>\n",
       "      <th>shipment_mode</th>\n",
       "      <th>late_delivery</th>\n",
       "      <th>late</th>\n",
       "      <th>product_group</th>\n",
       "      <th>sub_classification</th>\n",
       "      <th>vendor</th>\n",
       "      <th>item_description</th>\n",
       "      <th>molecule_test_type</th>\n",
       "      <th>brand</th>\n",
       "      <th>dosage</th>\n",
       "      <th>dosage_form</th>\n",
       "      <th>unit_of_measure_per_pack</th>\n",
       "      <th>line_item_quantity</th>\n",
       "      <th>line_item_value</th>\n",
       "      <th>pack_price</th>\n",
       "      <th>unit_price</th>\n",
       "      <th>manufacturing_site</th>\n",
       "      <th>first_line_designation</th>\n",
       "      <th>weight_kilograms</th>\n",
       "      <th>freight_cost_usd</th>\n",
       "      <th>freight_cost_groups</th>\n",
       "      <th>line_item_insurance_usd</th>\n",
       "    </tr>\n",
       "  </thead>\n",
       "  <tbody>\n",
       "    <tr>\n",
       "      <th>0</th>\n",
       "      <td>36203.0</td>\n",
       "      <td>Nigeria</td>\n",
       "      <td>PMO - US</td>\n",
       "      <td>Direct Drop</td>\n",
       "      <td>EXW</td>\n",
       "      <td>Air</td>\n",
       "      <td>1.0</td>\n",
       "      <td>Yes</td>\n",
       "      <td>HRDT</td>\n",
       "      <td>HIV test</td>\n",
       "      <td>Orgenics, Ltd</td>\n",
       "      <td>HIV 1/2, Determine Complete HIV Kit, 100 Tests</td>\n",
       "      <td>HIV 1/2, Determine Complete HIV Kit</td>\n",
       "      <td>Determine</td>\n",
       "      <td>N/A</td>\n",
       "      <td>Test kit</td>\n",
       "      <td>100.0</td>\n",
       "      <td>2996.0</td>\n",
       "      <td>266644.0</td>\n",
       "      <td>89.0</td>\n",
       "      <td>0.89</td>\n",
       "      <td>Alere Medical Co., Ltd.</td>\n",
       "      <td>Yes</td>\n",
       "      <td>1426.0</td>\n",
       "      <td>33279.83</td>\n",
       "      <td>expensive</td>\n",
       "      <td>373.83</td>\n",
       "    </tr>\n",
       "    <tr>\n",
       "      <th>1</th>\n",
       "      <td>30998.0</td>\n",
       "      <td>Botswana</td>\n",
       "      <td>PMO - US</td>\n",
       "      <td>Direct Drop</td>\n",
       "      <td>EXW</td>\n",
       "      <td>Air</td>\n",
       "      <td>0.0</td>\n",
       "      <td>No</td>\n",
       "      <td>HRDT</td>\n",
       "      <td>HIV test</td>\n",
       "      <td>Trinity Biotech, Plc</td>\n",
       "      <td>HIV 1/2, Uni-Gold HIV Kit, 20 Tests</td>\n",
       "      <td>HIV 1/2, Uni-Gold HIV Kit</td>\n",
       "      <td>Uni-Gold</td>\n",
       "      <td>N/A</td>\n",
       "      <td>Test kit</td>\n",
       "      <td>20.0</td>\n",
       "      <td>25.0</td>\n",
       "      <td>800.0</td>\n",
       "      <td>32.0</td>\n",
       "      <td>1.60</td>\n",
       "      <td>Trinity Biotech, Plc</td>\n",
       "      <td>Yes</td>\n",
       "      <td>10.0</td>\n",
       "      <td>559.89</td>\n",
       "      <td>reasonable</td>\n",
       "      <td>1.72</td>\n",
       "    </tr>\n",
       "    <tr>\n",
       "      <th>2</th>\n",
       "      <td>69871.0</td>\n",
       "      <td>Vietnam</td>\n",
       "      <td>PMO - US</td>\n",
       "      <td>Direct Drop</td>\n",
       "      <td>EXW</td>\n",
       "      <td>Air</td>\n",
       "      <td>0.0</td>\n",
       "      <td>No</td>\n",
       "      <td>ARV</td>\n",
       "      <td>Adult</td>\n",
       "      <td>HETERO LABS LIMITED</td>\n",
       "      <td>Lamivudine/Nevirapine/Stavudine 150/200/30mg, ...</td>\n",
       "      <td>Lamivudine/Nevirapine/Stavudine</td>\n",
       "      <td>Generic</td>\n",
       "      <td>150/200/30mg</td>\n",
       "      <td>Tablet - FDC</td>\n",
       "      <td>60.0</td>\n",
       "      <td>22925.0</td>\n",
       "      <td>110040.0</td>\n",
       "      <td>4.8</td>\n",
       "      <td>0.08</td>\n",
       "      <td>Hetero Unit III Hyderabad IN</td>\n",
       "      <td>Yes</td>\n",
       "      <td>3723.0</td>\n",
       "      <td>19056.13</td>\n",
       "      <td>expensive</td>\n",
       "      <td>181.57</td>\n",
       "    </tr>\n",
       "  </tbody>\n",
       "</table>\n",
       "</div>"
      ],
      "text/plain": [
       "        id   country managed_by  fulfill_via vendor_inco_term shipment_mode  \\\n",
       "0  36203.0   Nigeria   PMO - US  Direct Drop              EXW           Air   \n",
       "1  30998.0  Botswana   PMO - US  Direct Drop              EXW           Air   \n",
       "2  69871.0   Vietnam   PMO - US  Direct Drop              EXW           Air   \n",
       "\n",
       "   late_delivery late product_group sub_classification                vendor  \\\n",
       "0            1.0  Yes          HRDT           HIV test         Orgenics, Ltd   \n",
       "1            0.0   No          HRDT           HIV test  Trinity Biotech, Plc   \n",
       "2            0.0   No           ARV              Adult   HETERO LABS LIMITED   \n",
       "\n",
       "                                    item_description  \\\n",
       "0     HIV 1/2, Determine Complete HIV Kit, 100 Tests   \n",
       "1                HIV 1/2, Uni-Gold HIV Kit, 20 Tests   \n",
       "2  Lamivudine/Nevirapine/Stavudine 150/200/30mg, ...   \n",
       "\n",
       "                    molecule_test_type      brand        dosage   dosage_form  \\\n",
       "0  HIV 1/2, Determine Complete HIV Kit  Determine           N/A      Test kit   \n",
       "1            HIV 1/2, Uni-Gold HIV Kit   Uni-Gold           N/A      Test kit   \n",
       "2      Lamivudine/Nevirapine/Stavudine    Generic  150/200/30mg  Tablet - FDC   \n",
       "\n",
       "   unit_of_measure_per_pack  line_item_quantity  line_item_value  pack_price  \\\n",
       "0                     100.0              2996.0         266644.0        89.0   \n",
       "1                      20.0                25.0            800.0        32.0   \n",
       "2                      60.0             22925.0         110040.0         4.8   \n",
       "\n",
       "   unit_price            manufacturing_site first_line_designation  \\\n",
       "0        0.89       Alere Medical Co., Ltd.                    Yes   \n",
       "1        1.60          Trinity Biotech, Plc                    Yes   \n",
       "2        0.08  Hetero Unit III Hyderabad IN                    Yes   \n",
       "\n",
       "   weight_kilograms  freight_cost_usd freight_cost_groups  \\\n",
       "0            1426.0          33279.83           expensive   \n",
       "1              10.0            559.89          reasonable   \n",
       "2            3723.0          19056.13           expensive   \n",
       "\n",
       "   line_item_insurance_usd  \n",
       "0                   373.83  \n",
       "1                     1.72  \n",
       "2                   181.57  "
      ]
     },
     "execution_count": 2,
     "metadata": {},
     "output_type": "execute_result"
    }
   ],
   "source": [
    "pd.options.display.max_columns = 500\n",
    "late_shipments = pd.read_feather('https://assets.datacamp.com/production/repositories/5982/datasets/887ec4bc2bcfd4195e7d3ad113168555f36d3afa/late_shipments.feather')\n",
    "late_shipments.head(3)"
   ]
  },
  {
   "cell_type": "markdown",
   "metadata": {},
   "source": [
    "Data Exploratory"
   ]
  },
  {
   "cell_type": "code",
   "execution_count": 3,
   "metadata": {},
   "outputs": [
    {
     "data": {
      "text/plain": [
       "<AxesSubplot:>"
      ]
     },
     "execution_count": 3,
     "metadata": {},
     "output_type": "execute_result"
    },
    {
     "data": {
      "image/png": "[encoded data removed]",
      "text/plain": [
       "<Figure size 432x288 with 2 Axes>"
      ]
     },
     "metadata": {
      "needs_background": "light"
     },
     "output_type": "display_data"
    }
   ],
   "source": [
    "# Check missing value\n",
    "sns.heatmap(late_shipments.isnull(),yticklabels=False)"
   ]
  },
  {
   "cell_type": "code",
   "execution_count": 22,
   "metadata": {},
   "outputs": [
    {
     "data": {
      "text/plain": [
       "Air            906\n",
       "Ocean           88\n",
       "Air Charter      6\n",
       "Name: shipment_mode, dtype: int64"
      ]
     },
     "execution_count": 22,
     "metadata": {},
     "output_type": "execute_result"
    }
   ],
   "source": [
    "late_shipments['shipment_mode'].value_counts()"
   ]
  },
  {
   "cell_type": "code",
   "execution_count": 5,
   "metadata": {},
   "outputs": [
    {
     "data": {
      "text/plain": [
       "shipment_mode  late\n",
       "Air            No      857\n",
       "Ocean          No       76\n",
       "Air            Yes      49\n",
       "Ocean          Yes      12\n",
       "Air Charter    No        6\n",
       "dtype: int64"
      ]
     },
     "execution_count": 5,
     "metadata": {},
     "output_type": "execute_result"
    }
   ],
   "source": [
    "late_shipments[['shipment_mode','late']].value_counts()"
   ]
  },
  {
   "cell_type": "code",
   "execution_count": 82,
   "metadata": {},
   "outputs": [
    {
     "data": {
      "text/plain": [
       "late\n",
       "No     939\n",
       "Yes     61\n",
       "Name: id, dtype: int64"
      ]
     },
     "execution_count": 82,
     "metadata": {},
     "output_type": "execute_result"
    }
   ],
   "source": [
    "late_shipments.groupby('late')['id'].count()"
   ]
  },
  {
   "cell_type": "code",
   "execution_count": 21,
   "metadata": {},
   "outputs": [
    {
     "name": "stdout",
     "output_type": "stream",
     "text": [
      "shipment_mode\n",
      "Air            1521.778146\n",
      "Air Charter    2823.500000\n",
      "Ocean          6272.840909\n",
      "Name: weight_kilograms, dtype: float64\n"
     ]
    },
    {
     "data": {
      "text/plain": [
       "<AxesSubplot:xlabel='shipment_mode', ylabel='weight_kilograms'>"
      ]
     },
     "execution_count": 21,
     "metadata": {},
     "output_type": "execute_result"
    },
    {
     "data": {
      "image/png": "[encoded data removed]",
      "text/plain": [
       "<Figure size 432x288 with 1 Axes>"
      ]
     },
     "metadata": {
      "needs_background": "light"
     },
     "output_type": "display_data"
    }
   ],
   "source": [
    "print(late_shipments.groupby('shipment_mode')['weight_kilograms'].agg(np.mean))\n",
    "sns.barplot(x='shipment_mode',y='weight_kilograms',data=late_shipments,estimator=np.mean)\n",
    "# ship by the ocean is a good way to contain a heavy stuff"
   ]
  },
  {
   "cell_type": "markdown",
   "metadata": {},
   "source": [
    "- Is Shipment_mode affect late ? (Ocean Vs Air)"
   ]
  },
  {
   "cell_type": "code",
   "execution_count": 84,
   "metadata": {},
   "outputs": [
    {
     "data": {
      "text/plain": [
       "<matplotlib.legend.Legend at 0x1fb946f58e0>"
      ]
     },
     "execution_count": 84,
     "metadata": {},
     "output_type": "execute_result"
    },
    {
     "data": {
      "image/png": "[encoded data removed]",
      "text/plain": [
       "<Figure size 432x288 with 2 Axes>"
      ]
     },
     "metadata": {},
     "output_type": "display_data"
    }
   ],
   "source": [
    "fig , ax = plt.subplots(1,2)\n",
    "ax[0].pie(late_shipments.groupby(['shipment_mode','late'])['id'].agg(len)['Air'])\n",
    "ax[0].set_title('Air',color='red')\n",
    "ax[1].pie(late_shipments.groupby(['shipment_mode','late'])['id'].agg(len)['Ocean'])\n",
    "ax[1].set_title('Ocean',color='red')\n",
    "fig.legend(['Not Late','Late'])\n",
    "# It seem proportion \"Late\" in \"Ocean\" is more than \"Air\" "
   ]
  },
  {
   "cell_type": "code",
   "execution_count": 205,
   "metadata": {},
   "outputs": [
    {
     "data": {
      "text/plain": [
       "0.9912"
      ]
     },
     "execution_count": 205,
     "metadata": {},
     "output_type": "execute_result"
    }
   ],
   "source": [
    "# bootsample 10000 times then calculate time of late_rate_Ocean > late_rate_Air / 10000\n",
    "list_ = []\n",
    "for i in range(10000):\n",
    "    ship_Islate = late_shipments.sample(frac=1,replace=True).groupby(['shipment_mode','late'])['id'].agg(len)\n",
    "    late_rate_Air = ship_Islate[('Air','Yes')]/ship_Islate['Air'].sum()\n",
    "    late_rate_Ocean = ship_Islate[('Ocean','Yes')]/ship_Islate['Ocean'].sum()\n",
    "    if late_rate_Ocean  > late_rate_Air :\n",
    "        list_.append(1)\n",
    "    else : list_.append(0)\n",
    "sum(list_)/10000"
   ]
  },
  {
   "cell_type": "code",
   "execution_count": 206,
   "metadata": {},
   "outputs": [
    {
     "data": {
      "text/plain": [
       "True"
      ]
     },
     "execution_count": 206,
     "metadata": {},
     "output_type": "execute_result"
    }
   ],
   "source": [
    "0.9912 > 0.95\n",
    "# at confidence 95% : shipment by Ocean is more late than shipment by Air"
   ]
  },
  {
   "cell_type": "markdown",
   "metadata": {},
   "source": [
    "- Is there 6% of delivery order is late ?"
   ]
  },
  {
   "cell_type": "code",
   "execution_count": 282,
   "metadata": {},
   "outputs": [
    {
     "data": {
      "text/plain": [
       "[0.068, 0.056, 0.068, 0.065, 0.056, 0.056, 0.061, 0.067, 0.056, 0.059]"
      ]
     },
     "execution_count": 282,
     "metadata": {},
     "output_type": "execute_result"
    }
   ],
   "source": [
    "# bootsample 10000 times of late rate\n",
    "late_shipments_boot_distn = []\n",
    "for i in range(10000):\n",
    "    late_shipments_boot_distn.append(\n",
    "        late_shipments.sample(frac=1,replace=True)['late'].value_counts(normalize=True)[1]\n",
    "    )\n",
    "late_shipments_boot_distn[0:10]"
   ]
  },
  {
   "cell_type": "code",
   "execution_count": 210,
   "metadata": {},
   "outputs": [
    {
     "name": "stdout",
     "output_type": "stream",
     "text": [
      "0.047 0.076\n"
     ]
    },
    {
     "data": {
      "text/plain": [
       "<matplotlib.lines.Line2D at 0x21c0832b640>"
      ]
     },
     "execution_count": 210,
     "metadata": {},
     "output_type": "execute_result"
    },
    {
     "data": {
      "image/png": "[encoded data removed]",
      "text/plain": [
       "<Figure size 432x288 with 1 Axes>"
      ]
     },
     "metadata": {},
     "output_type": "display_data"
    }
   ],
   "source": [
    "confidence = 0.95\n",
    "lower = np.quantile(late_shipments_boot_distn, (1-confidence)/2)\n",
    "upper = np.quantile(late_shipments_boot_distn, 1-(1-confidence)/2)\n",
    "print(lower,upper)\n",
    "sns.set_style('darkgrid')\n",
    "plt.hist(late_shipments_boot_distn,color='orange')\n",
    "plt.axvline(lower,color='red')\n",
    "plt.axvline(upper,color='red')\n",
    "plt.axvline(0.06,color='b')"
   ]
  },
  {
   "cell_type": "code",
   "execution_count": 211,
   "metadata": {},
   "outputs": [],
   "source": [
    "# at confidence 95%: late_order is about 6% "
   ]
  },
  {
   "cell_type": "markdown",
   "metadata": {},
   "source": [
    "- Is weight_kilograms affected late ?"
   ]
  },
  {
   "cell_type": "code",
   "execution_count": null,
   "metadata": {},
   "outputs": [],
   "source": [
    "# H0 : weight_kilograms_late , no_late is same\n",
    "# H1 : weight_kilograms_late > weight_kilograms_No_late"
   ]
  },
  {
   "cell_type": "code",
   "execution_count": 217,
   "metadata": {},
   "outputs": [
    {
     "name": "stdout",
     "output_type": "stream",
     "text": [
      "2715.6721311475408 1897.7912673056444\n"
     ]
    }
   ],
   "source": [
    "# specify parameter to calculate t_stat\n",
    "\n",
    "xbar_no = late_shipments.groupby('late')['weight_kilograms'].agg([np.mean,np.std,len]).loc['No'][0]\n",
    "xbar_yes = late_shipments.groupby('late')['weight_kilograms'].agg([np.mean,np.std,len]).loc['Yes'][0]\n",
    "s_no = late_shipments.groupby('late')['weight_kilograms'].agg([np.mean,np.std,len]).loc['No'][1]\n",
    "s_yes = late_shipments.groupby('late')['weight_kilograms'].agg([np.mean,np.std,len]).loc['Yes'][1]\n",
    "n_no = late_shipments.groupby('late')['weight_kilograms'].agg([np.mean,np.std,len]).loc['No'][2]\n",
    "n_yes = late_shipments.groupby('late')['weight_kilograms'].agg([np.mean,np.std,len]).loc['Yes'][2]\n",
    "print(xbar_yes,xbar_no)"
   ]
  },
  {
   "cell_type": "code",
   "execution_count": 281,
   "metadata": {},
   "outputs": [
    {
     "name": "stdout",
     "output_type": "stream",
     "text": [
      "2.3936661778766433\n"
     ]
    }
   ],
   "source": [
    "# Calculate the numerator of the test statistic\n",
    "numerator = xbar_yes - xbar_no\n",
    "\n",
    "# Calculate the denominator of the test statistic\n",
    "denominator = np.sqrt(s_yes**2/n_yes + s_no**2/n_no)\n",
    "\n",
    "# Calculate the test statistic\n",
    "t_stat = numerator / denominator\n",
    "\n",
    "print(t_stat)"
   ]
  },
  {
   "cell_type": "code",
   "execution_count": 279,
   "metadata": {},
   "outputs": [
    {
     "data": {
      "text/plain": [
       "<matplotlib.lines.Line2D at 0x21c0abd9fd0>"
      ]
     },
     "execution_count": 279,
     "metadata": {},
     "output_type": "execute_result"
    },
    {
     "data": {
      "image/png": "[encoded data removed]",
      "text/plain": [
       "<Figure size 432x288 with 1 Axes>"
      ]
     },
     "metadata": {},
     "output_type": "display_data"
    }
   ],
   "source": [
    "confidence = 0.95\n",
    "normal_graph = np.random.normal(loc=0,scale=1,size=1000000)\n",
    "lower = np.quantile(normal_graph, (1-confidence)/2)\n",
    "upper = np.quantile(normal_graph, 1-(1-confidence)/2)\n",
    "plt.hist(normal_graph,color='orange')\n",
    "plt.axvline(lower,color='red')\n",
    "plt.axvline(upper,color='red')\n",
    "plt.axvline(t_stat)"
   ]
  },
  {
   "cell_type": "code",
   "execution_count": 280,
   "metadata": {},
   "outputs": [
    {
     "data": {
      "text/plain": [
       "True"
      ]
     },
     "execution_count": 280,
     "metadata": {},
     "output_type": "execute_result"
    }
   ],
   "source": [
    "1 - stat.t.cdf(t_stat,df=1000-2) < (1-confidence)/2"
   ]
  },
  {
   "cell_type": "code",
   "execution_count": null,
   "metadata": {},
   "outputs": [],
   "source": [
    "# Reject H0 with Confidence 95% \n",
    "# more weight is effect more late"
   ]
  },
  {
   "cell_type": "markdown",
   "metadata": {},
   "source": [
    "-----"
   ]
  },
  {
   "cell_type": "markdown",
   "metadata": {},
   "source": [
    " #### Conclusion\n",
    "- Shipment by Air is low percent late than ocean so if you need to make sure delivery is not late , sent by air\n",
    "- percent order late is around 5 - 7 %\n",
    "- more weight stuff is trend cause late delivery"
   ]
  },
  {
   "cell_type": "markdown",
   "metadata": {},
   "source": [
    "--------------------------"
   ]
  }
 ],
 "metadata": {
  "kernelspec": {
   "display_name": "Python 3.9.13 64-bit (windows store)",
   "language": "python",
   "name": "python3"
  },
  "language_info": {
   "codemirror_mode": {
    "name": "ipython",
    "version": 3
   },
   "file_extension": ".py",
   "mimetype": "text/x-python",
   "name": "python",
   "nbconvert_exporter": "python",
   "pygments_lexer": "ipython3",
   "version": "3.9.13"
  },
  "orig_nbformat": 4,
  "vscode": {
   "interpreter": {
    "hash": "9980902d2181b0366f268cdeb570dcf1ce18a8ac5e6cd70c732da8630a487bfc"
   }
  }
 },
 "nbformat": 4,
 "nbformat_minor": 2
}
